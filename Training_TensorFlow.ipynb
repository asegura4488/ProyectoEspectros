{
 "cells": [
  {
   "cell_type": "code",
   "execution_count": 1,
   "id": "70dafba8",
   "metadata": {},
   "outputs": [
    {
     "name": "stderr",
     "output_type": "stream",
     "text": [
      "2023-06-24 16:54:22.283072: I tensorflow/tsl/cuda/cudart_stub.cc:28] Could not find cuda drivers on your machine, GPU will not be used.\n",
      "2023-06-24 16:54:22.318822: I tensorflow/tsl/cuda/cudart_stub.cc:28] Could not find cuda drivers on your machine, GPU will not be used.\n",
      "2023-06-24 16:54:22.319456: I tensorflow/core/platform/cpu_feature_guard.cc:182] This TensorFlow binary is optimized to use available CPU instructions in performance-critical operations.\n",
      "To enable the following instructions: AVX2 FMA, in other operations, rebuild TensorFlow with the appropriate compiler flags.\n",
      "2023-06-24 16:54:23.016739: W tensorflow/compiler/tf2tensorrt/utils/py_utils.cc:38] TF-TRT Warning: Could not find TensorRT\n"
     ]
    },
    {
     "name": "stdout",
     "output_type": "stream",
     "text": [
      "WARNING:tensorflow:From /home/alejandro/anaconda3/lib/python3.9/site-packages/tensorflow/python/compat/v2_compat.py:107: disable_resource_variables (from tensorflow.python.ops.variable_scope) is deprecated and will be removed in a future version.\n",
      "Instructions for updating:\n",
      "non-resource variables are not supported in the long term\n"
     ]
    }
   ],
   "source": [
    "import numpy as np\n",
    "import matplotlib.pyplot as plt\n",
    "import pandas as pd\n",
    "\n",
    "from IPython.display import clear_output\n",
    "import time\n",
    "\n",
    "import tensorflow.compat.v1 as tf\n",
    "tf.disable_v2_behavior() "
   ]
  },
  {
   "cell_type": "markdown",
   "id": "7479257e",
   "metadata": {},
   "source": [
    "# Cargar datos"
   ]
  },
  {
   "cell_type": "code",
   "execution_count": 2,
   "id": "a9c3634d",
   "metadata": {},
   "outputs": [],
   "source": [
    "Train = pd.read_csv(\"Database/TrainSample.csv\")\n",
    "Test = pd.read_csv(\"Database/TestSample.csv\")"
   ]
  },
  {
   "cell_type": "code",
   "execution_count": 3,
   "id": "21f9e094",
   "metadata": {},
   "outputs": [],
   "source": [
    "XTrain = np.array(Train[['PhiNorm','ThetaNorm']])\n",
    "YTrain = np.array(Train['Tipo'])\n",
    "XTest = np.array(Test[['PhiNorm','ThetaNorm']])\n",
    "YTest = np.array(Test['Tipo'])"
   ]
  },
  {
   "cell_type": "markdown",
   "id": "f697d3df",
   "metadata": {},
   "source": [
    "# Arquitectura de la red"
   ]
  },
  {
   "cell_type": "code",
   "execution_count": 4,
   "id": "c8335aee",
   "metadata": {},
   "outputs": [
    {
     "name": "stdout",
     "output_type": "stream",
     "text": [
      "(?, 2) (?,) input1:0 input2:0\n"
     ]
    }
   ],
   "source": [
    "X = tf.placeholder('float', shape=[None, XTrain.shape[1]], name='input1')\n",
    "Y = tf.placeholder('float', shape=[None], name='input2')\n",
    "print(X.shape,Y.shape,X.name,Y.name)"
   ]
  },
  {
   "cell_type": "markdown",
   "id": "3627a0f0",
   "metadata": {},
   "source": [
    "# Neuronas por capa y learning rate"
   ]
  },
  {
   "cell_type": "code",
   "execution_count": 5,
   "id": "abffd872",
   "metadata": {},
   "outputs": [],
   "source": [
    "lr = 0.03\n",
    "NN = [2,4,8,4,1]"
   ]
  },
  {
   "cell_type": "code",
   "execution_count": 6,
   "id": "ba472646",
   "metadata": {},
   "outputs": [],
   "source": [
    "# Capa 1\n",
    "W1 = tf.Variable( tf.random.normal([NN[0],NN[1]]), name='Weights_1' )\n",
    "b1 = tf.Variable( tf.random.normal([NN[1]]), name='Bias_1' )\n",
    "l1 = tf.nn.relu(tf.add(tf.matmul(X,W1),b1))"
   ]
  },
  {
   "cell_type": "code",
   "execution_count": 7,
   "id": "715ef968",
   "metadata": {},
   "outputs": [],
   "source": [
    "# Capa 2\n",
    "W2 = tf.Variable( tf.random.normal([NN[1],NN[2]]), name='Weights_2' )\n",
    "b2 = tf.Variable( tf.random.normal([NN[2]]), name='Bias_2' )\n",
    "l2 = tf.nn.relu(tf.add(tf.matmul(l1,W2),b2))"
   ]
  },
  {
   "cell_type": "code",
   "execution_count": 8,
   "id": "90e33f35",
   "metadata": {},
   "outputs": [],
   "source": [
    "#Capa3\n",
    "W3 = tf.Variable( tf.random.normal([NN[2],NN[3]]),name='Weights_3' )\n",
    "b3 = tf.Variable( tf.random.normal([NN[3]]), name='Bias_3' )\n",
    "# El output debe ser sigmoide para tener acotada la salida\n",
    "lout = tf.nn.sigmoid(tf.add(tf.matmul(l2,W3),b3))[:,0]"
   ]
  },
  {
   "cell_type": "code",
   "execution_count": 9,
   "id": "98ed3102",
   "metadata": {},
   "outputs": [
    {
     "name": "stdout",
     "output_type": "stream",
     "text": [
      "Tensor(\"strided_slice:0\", shape=(?,), dtype=float32)\n"
     ]
    }
   ],
   "source": [
    "print(lout)"
   ]
  },
  {
   "cell_type": "markdown",
   "id": "39a0ab31",
   "metadata": {},
   "source": [
    "# Función de costo"
   ]
  },
  {
   "cell_type": "code",
   "execution_count": 10,
   "id": "8b505111",
   "metadata": {},
   "outputs": [],
   "source": [
    "loss = tf.losses.mean_squared_error(lout,Y)"
   ]
  },
  {
   "cell_type": "markdown",
   "id": "02516490",
   "metadata": {},
   "source": [
    "# Optimizador"
   ]
  },
  {
   "cell_type": "code",
   "execution_count": 11,
   "id": "94da6d95",
   "metadata": {},
   "outputs": [],
   "source": [
    "optimizer = tf.train.GradientDescentOptimizer(learning_rate=lr).minimize(loss)"
   ]
  },
  {
   "cell_type": "markdown",
   "id": "8efa1863",
   "metadata": {},
   "source": [
    "# Sesión de tensorflow"
   ]
  },
  {
   "cell_type": "code",
   "execution_count": 12,
   "id": "6d2bba8a",
   "metadata": {},
   "outputs": [
    {
     "name": "stdout",
     "output_type": "stream",
     "text": [
      "Step 99000 / 100000 -Loss =  0.025242442  -Acc  0.97\n"
     ]
    },
    {
     "data": {
      "image/png": "[encoded data removed]",
      "text/plain": [
       "<Figure size 360x360 with 1 Axes>"
      ]
     },
     "metadata": {
      "needs_background": "light"
     },
     "output_type": "display_data"
    }
   ],
   "source": [
    "sess = tf.Session()\n",
    "\n",
    "saver = tf.train.Saver()\n",
    "\n",
    "n_steps = int(1e5)\n",
    "\n",
    "#init = tf.global_variables_initializer()\n",
    "\n",
    "LossTrain = np.array([])\n",
    "LossTest = np.array([])\n",
    "\n",
    "with sess.as_default():\n",
    "    \n",
    "    #sess.run(init)\n",
    "    tf.global_variables_initializer().run()\n",
    "    \n",
    "    for i in range(n_steps):\n",
    "        \n",
    "        # Optimización\n",
    "        _, _lossTrain, _pY = sess.run( [optimizer,loss,lout], feed_dict={X:XTrain,Y:YTrain} )\n",
    "        _lossTest, _pYT = sess.run( [loss,lout], feed_dict={X:XTest,Y:YTest} )\n",
    "        \n",
    "        LossTrain = np.append(LossTrain,_lossTrain)\n",
    "        LossTest = np.append(LossTest,_lossTest)\n",
    "        \n",
    "        if _lossTrain < 0.01 or np.abs( LossTrain[-1]-LossTest[-1] ) > 0.2:\n",
    "            print('Entrenamiento Finalizado')\n",
    "            break\n",
    "            \n",
    "        if i%1000 == 0:\n",
    "            \n",
    "            \n",
    "            acc = np.mean( np.round(_pY) == YTrain )\n",
    "            \n",
    "            clear_output(wait=True)\n",
    "            \n",
    "            print('Step',i,'/',n_steps,'-Loss = ', _lossTrain, ' -Acc ', acc)\n",
    "    \n",
    "            fig = plt.figure(figsize=(5,5))\n",
    "            ax = fig.add_subplot(111)\n",
    "            \n",
    "            ax.plot(LossTrain[:i],color='r',label='Training Cost')\n",
    "            ax.plot(LossTest[:i],color='k',label='Testing Cost')\n",
    "    \n",
    "            ax.legend()\n",
    "        \n",
    "            plt.show()\n",
    "        \n",
    "            time.sleep(0.01)\n",
    "    \n",
    "    save_path = saver.save(sess,'Modelo1.ckpt')"
   ]
  },
  {
   "cell_type": "code",
   "execution_count": null,
   "id": "3a7ec1fc",
   "metadata": {},
   "outputs": [],
   "source": []
  },
  {
   "cell_type": "markdown",
   "id": "db06a03d",
   "metadata": {},
   "source": [
    "# Predicción"
   ]
  },
  {
   "cell_type": "code",
   "execution_count": 13,
   "id": "8381e874",
   "metadata": {},
   "outputs": [
    {
     "data": {
      "text/plain": [
       "array([1.5893926e-05], dtype=float32)"
      ]
     },
     "execution_count": 13,
     "metadata": {},
     "output_type": "execute_result"
    }
   ],
   "source": [
    "sess.run(lout,feed_dict={X:[[0.8,0.4]]})"
   ]
  },
  {
   "cell_type": "code",
   "execution_count": 14,
   "id": "17f6a5d7",
   "metadata": {},
   "outputs": [],
   "source": [
    "YTrain = YTrain[:,np.newaxis]\n",
    "#YTrain"
   ]
  },
  {
   "cell_type": "code",
   "execution_count": 15,
   "id": "269896fe",
   "metadata": {},
   "outputs": [
    {
     "data": {
      "text/plain": [
       "<matplotlib.collections.PathCollection at 0x7f3354109160>"
      ]
     },
     "execution_count": 15,
     "metadata": {},
     "output_type": "execute_result"
    },
    {
     "data": {
      "image/png": "[encoded data removed]",
      "text/plain": [
       "<Figure size 360x360 with 1 Axes>"
      ]
     },
     "metadata": {
      "needs_background": "light"
     },
     "output_type": "display_data"
    }
   ],
   "source": [
    "fig = plt.figure(figsize=(5,5))\n",
    "ax = fig.add_subplot(1,1,1)\n",
    "        \n",
    "N = 60\n",
    "        \n",
    "x = np.linspace(0.,1.,N)\n",
    "y = np.linspace(0.,1.,N) \n",
    "\n",
    "Y = np.zeros((N,N))\n",
    "\n",
    "for i, _x in enumerate(x):\n",
    "    for j, _y in enumerate(y):\n",
    "        Y[i,j] = sess.run(lout,feed_dict={X:[[_x,_y]]})\n",
    "        \n",
    "ax.pcolormesh(x,y,Y.T,cmap='coolwarm')\n",
    "ax.scatter(XTrain[YTrain[:,0] == 1 ,0],XTrain[YTrain[:,0]==1,1], c='salmon')"
   ]
  },
  {
   "cell_type": "code",
   "execution_count": 16,
   "id": "60c8e9e2",
   "metadata": {},
   "outputs": [],
   "source": [
    "#sess.close()"
   ]
  },
  {
   "cell_type": "code",
   "execution_count": null,
   "id": "5bcde0da",
   "metadata": {},
   "outputs": [],
   "source": []
  }
 ],
 "metadata": {
  "kernelspec": {
   "display_name": "Python 3 (ipykernel)",
   "language": "python",
   "name": "python3"
  },
  "language_info": {
   "codemirror_mode": {
    "name": "ipython",
    "version": 3
   },
   "file_extension": ".py",
   "mimetype": "text/x-python",
   "name": "python",
   "nbconvert_exporter": "python",
   "pygments_lexer": "ipython3",
   "version": "3.9.12"
  }
 },
 "nbformat": 4,
 "nbformat_minor": 5
}
