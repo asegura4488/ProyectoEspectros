{
 "cells": [
  {
   "cell_type": "code",
   "execution_count": 1,
   "id": "a7c09228",
   "metadata": {},
   "outputs": [
    {
     "name": "stderr",
     "output_type": "stream",
     "text": [
      "2023-06-24 20:42:51.899142: I tensorflow/tsl/cuda/cudart_stub.cc:28] Could not find cuda drivers on your machine, GPU will not be used.\n",
      "2023-06-24 20:42:51.930328: I tensorflow/tsl/cuda/cudart_stub.cc:28] Could not find cuda drivers on your machine, GPU will not be used.\n",
      "2023-06-24 20:42:51.930814: I tensorflow/core/platform/cpu_feature_guard.cc:182] This TensorFlow binary is optimized to use available CPU instructions in performance-critical operations.\n",
      "To enable the following instructions: AVX2 FMA, in other operations, rebuild TensorFlow with the appropriate compiler flags.\n",
      "2023-06-24 20:42:52.622469: W tensorflow/compiler/tf2tensorrt/utils/py_utils.cc:38] TF-TRT Warning: Could not find TensorRT\n"
     ]
    },
    {
     "name": "stdout",
     "output_type": "stream",
     "text": [
      "WARNING:tensorflow:From /home/alejandro/anaconda3/lib/python3.9/site-packages/tensorflow/python/compat/v2_compat.py:107: disable_resource_variables (from tensorflow.python.ops.variable_scope) is deprecated and will be removed in a future version.\n",
      "Instructions for updating:\n",
      "non-resource variables are not supported in the long term\n"
     ]
    }
   ],
   "source": [
    "import numpy as np\n",
    "import matplotlib.pyplot as plt\n",
    "import pandas as pd\n",
    "\n",
    "from IPython.display import clear_output\n",
    "import time\n",
    "\n",
    "from sklearn.metrics import confusion_matrix\n",
    "from sklearn.metrics import auc\n",
    "\n",
    "import tensorflow.compat.v1 as tf\n",
    "tf.disable_v2_behavior() "
   ]
  },
  {
   "cell_type": "code",
   "execution_count": 2,
   "id": "943f8da3",
   "metadata": {},
   "outputs": [],
   "source": [
    "Test = pd.read_csv(\"Database/Validation.csv\")"
   ]
  },
  {
   "cell_type": "code",
   "execution_count": 3,
   "id": "bfd3448e",
   "metadata": {},
   "outputs": [],
   "source": [
    "XTest = np.array(Test[['PhiNorm','ThetaNorm']])\n",
    "YTest = np.array(Test['Tipo'])"
   ]
  },
  {
   "cell_type": "markdown",
   "id": "fd273b2c",
   "metadata": {},
   "source": [
    "# Creamos la sesión de tensorflow para predecir"
   ]
  },
  {
   "cell_type": "code",
   "execution_count": 4,
   "id": "9e754a78",
   "metadata": {},
   "outputs": [
    {
     "name": "stdout",
     "output_type": "stream",
     "text": [
      "INFO:tensorflow:Restoring parameters from Modelo1.ckpt\n"
     ]
    },
    {
     "name": "stderr",
     "output_type": "stream",
     "text": [
      "2023-06-24 20:42:53.521476: E tensorflow/compiler/xla/stream_executor/cuda/cuda_driver.cc:266] failed call to cuInit: CUDA_ERROR_NO_DEVICE: no CUDA-capable device is detected\n",
      "2023-06-24 20:42:53.526986: I tensorflow/compiler/mlir/mlir_graph_optimization_pass.cc:353] MLIR V1 optimization pass is not enabled\n"
     ]
    },
    {
     "name": "stdout",
     "output_type": "stream",
     "text": [
      "[0.98491764]\n"
     ]
    },
    {
     "data": {
      "image/png": "[encoded data removed]",
      "text/plain": [
       "<Figure size 360x360 with 1 Axes>"
      ]
     },
     "metadata": {
      "needs_background": "light"
     },
     "output_type": "display_data"
    }
   ],
   "source": [
    "saver = tf.train.import_meta_graph('Modelo1.ckpt.meta')\n",
    "\n",
    "with tf.Session() as sess:\n",
    "    \n",
    "    saver.restore(sess,'Modelo1.ckpt')  \n",
    "    \n",
    "    X = sess.graph.get_tensor_by_name('input1:0')\n",
    "    lout = sess.graph.get_tensor_by_name('strided_slice:0')\n",
    "    \n",
    "    Yp = sess.run(lout, feed_dict={X:[[0.5,0.8]]})\n",
    "    print(Yp)\n",
    "    \n",
    "    fig = plt.figure(figsize=(5,5))\n",
    "    ax = fig.add_subplot(1,1,1)\n",
    "        \n",
    "    N = 60\n",
    "        \n",
    "    x = np.linspace(0.,1.,N)\n",
    "    y = np.linspace(0.,1.,N) \n",
    "\n",
    "    Y = np.zeros((N,N))\n",
    "\n",
    "    for i, _x in enumerate(x):\n",
    "        for j, _y in enumerate(y):\n",
    "            Y[i,j] = sess.run(lout,feed_dict={X:[[_x,_y]]})\n",
    "        \n",
    "    ax.pcolormesh(x,y,Y.T,cmap='coolwarm')\n",
    "    \n",
    "    YPrediction = np.round(sess.run(lout,feed_dict={X:XTest}),0)"
   ]
  },
  {
   "cell_type": "code",
   "execution_count": 5,
   "id": "4e820268",
   "metadata": {},
   "outputs": [
    {
     "data": {
      "text/plain": [
       "array([0., 0., 0., 0., 0., 1., 1., 0., 0., 0., 1., 0., 0., 0., 1., 0., 0.,\n",
       "       0., 0., 0., 0., 0., 0., 0., 0., 0., 0., 1., 0., 0., 0., 1., 0., 0.,\n",
       "       0., 0., 0., 1., 0., 1., 0., 0., 0., 0., 0., 0., 1., 0., 0., 0., 0.,\n",
       "       0., 1., 0., 0., 0., 0., 0., 1., 0., 0., 0., 0., 1., 0., 1., 0., 0.,\n",
       "       0., 0., 0., 1., 0., 1., 1., 0., 0., 0., 1., 0., 0., 0., 0., 0., 0.,\n",
       "       0., 0., 0., 0., 0., 0., 0., 0., 0., 0., 0., 0., 0., 0., 0., 0., 0.,\n",
       "       0., 0., 0., 0., 0., 0., 1., 0., 0., 0., 0., 0., 0., 0., 0., 0., 0.,\n",
       "       0., 1., 1., 0., 0., 0., 0., 0., 0., 0., 0., 0., 1., 0., 0., 1., 1.,\n",
       "       0., 0., 0., 0., 0., 0., 0., 0., 0., 0., 0., 1., 0., 0., 0., 0., 0.,\n",
       "       0., 0., 0., 0., 0., 1., 0., 0., 0., 0., 0., 0., 0., 1., 0., 0., 0.,\n",
       "       0., 1., 0., 0., 0., 0., 1., 1., 0., 0., 1., 0., 0., 0., 0., 0., 1.,\n",
       "       0., 0., 0., 0., 0., 0., 0., 0., 1., 1., 0., 1., 0., 0., 0., 0., 0.,\n",
       "       0., 0., 1., 0., 0., 0., 0., 0., 0., 0., 0., 0., 1., 0., 0., 0., 0.,\n",
       "       0., 0., 0., 0., 0., 0., 0., 1., 0., 0., 1., 0., 0., 0., 0., 1., 0.,\n",
       "       0., 0., 0., 0., 0., 0., 0., 0., 0., 0., 0., 0., 0., 0., 1., 1., 0.,\n",
       "       0., 0., 0., 0., 1., 1., 1., 0., 0., 0., 1., 0., 0., 0., 0., 0., 0.,\n",
       "       0., 0., 1., 1., 0., 0., 0., 1., 0., 0., 1., 0., 0., 0., 0., 1., 0.,\n",
       "       0., 1., 0., 0., 0., 0., 0., 0., 0., 0., 1.], dtype=float32)"
      ]
     },
     "execution_count": 5,
     "metadata": {},
     "output_type": "execute_result"
    }
   ],
   "source": [
    "YPrediction"
   ]
  },
  {
   "cell_type": "code",
   "execution_count": 6,
   "id": "48673459",
   "metadata": {},
   "outputs": [],
   "source": [
    "_YPred = tf.constant(YPrediction, dtype=tf.int32)\n",
    "_YTest = tf.constant(YTest, dtype=tf.int32)"
   ]
  },
  {
   "cell_type": "code",
   "execution_count": 7,
   "id": "8460396c",
   "metadata": {},
   "outputs": [
    {
     "name": "stdout",
     "output_type": "stream",
     "text": [
      "[[246   4]\n",
      " [  2  48]]\n"
     ]
    }
   ],
   "source": [
    "with tf.Session() as sess:\n",
    "    Confusion = tf.math.confusion_matrix(_YTest,_YPred, num_classes=2)\n",
    "    ConfusionMatrix = Confusion.eval(session=sess)\n",
    "    print(Confusion.eval(session=sess))"
   ]
  },
  {
   "cell_type": "code",
   "execution_count": 8,
   "id": "863f8677",
   "metadata": {},
   "outputs": [
    {
     "data": {
      "text/plain": [
       "array([[246,   4],\n",
       "       [  2,  48]], dtype=int32)"
      ]
     },
     "execution_count": 8,
     "metadata": {},
     "output_type": "execute_result"
    }
   ],
   "source": [
    "ConfusionMatrix"
   ]
  },
  {
   "cell_type": "code",
   "execution_count": 9,
   "id": "dc05a5a3",
   "metadata": {},
   "outputs": [
    {
     "data": {
      "text/plain": [
       "array([[246,   4],\n",
       "       [  2,  48]])"
      ]
     },
     "execution_count": 9,
     "metadata": {},
     "output_type": "execute_result"
    }
   ],
   "source": [
    "ConfusionMatrix2 = confusion_matrix(YTest,YPrediction)\n",
    "ConfusionMatrix2"
   ]
  },
  {
   "cell_type": "code",
   "execution_count": 10,
   "id": "3f8269e0",
   "metadata": {},
   "outputs": [
    {
     "name": "stdout",
     "output_type": "stream",
     "text": [
      "246 48\n",
      "4 2\n"
     ]
    }
   ],
   "source": [
    "TP = ConfusionMatrix[0,0]\n",
    "FP = ConfusionMatrix[0,1]\n",
    "FN = ConfusionMatrix[1,0]\n",
    "TN = ConfusionMatrix[1,1] \n",
    "print(TP,TN)\n",
    "print(FP,FN)"
   ]
  },
  {
   "cell_type": "markdown",
   "id": "c6d4e631",
   "metadata": {},
   "source": [
    "# En este caso tenemos\n",
    "## TP = 240, FP = 10\n",
    "## FN =  3, TN = 47"
   ]
  },
  {
   "cell_type": "code",
   "execution_count": 11,
   "id": "322cf021",
   "metadata": {},
   "outputs": [
    {
     "name": "stdout",
     "output_type": "stream",
     "text": [
      "1.0 0\n",
      "0.0 1\n",
      "1.0 0\n",
      "0.0 1\n",
      "1.0 0\n",
      "1.0 0\n"
     ]
    }
   ],
   "source": [
    "for i in range(len(YTest)):\n",
    "    if YTest[i] != YPrediction[i]:\n",
    "        print(YPrediction[i],YTest[i])"
   ]
  },
  {
   "cell_type": "markdown",
   "id": "f11a34cb",
   "metadata": {},
   "source": [
    "# Precision\n",
    "## De todo lo clasificado como positivo, ¿Qué es realmente positivo?\n",
    "\n",
    "# $$ P = \\frac{TP}{TP+FP} $$ "
   ]
  },
  {
   "cell_type": "code",
   "execution_count": 12,
   "id": "87f3c651",
   "metadata": {},
   "outputs": [
    {
     "data": {
      "text/plain": [
       "(246, 4)"
      ]
     },
     "execution_count": 12,
     "metadata": {},
     "output_type": "execute_result"
    }
   ],
   "source": [
    "TP = ConfusionMatrix[0,0]\n",
    "FP = ConfusionMatrix[0,1]\n",
    "TP,FP"
   ]
  },
  {
   "cell_type": "code",
   "execution_count": 13,
   "id": "f3db7e69",
   "metadata": {},
   "outputs": [
    {
     "data": {
      "text/plain": [
       "0.984"
      ]
     },
     "execution_count": 13,
     "metadata": {},
     "output_type": "execute_result"
    }
   ],
   "source": [
    "P = TP/(TP+FP)\n",
    "P"
   ]
  },
  {
   "cell_type": "markdown",
   "id": "1cdc2ad2",
   "metadata": {},
   "source": [
    "# Recall\n",
    "\n",
    "## De todo lo que es realmente positivo, ¿Qué proporción fue clasificada como positiva?\n",
    "\n",
    "# $$  R = \\frac{TP}{TP+FN} $$ "
   ]
  },
  {
   "cell_type": "code",
   "execution_count": 14,
   "id": "7ed2198e",
   "metadata": {},
   "outputs": [
    {
     "data": {
      "text/plain": [
       "0.9919354838709677"
      ]
     },
     "execution_count": 14,
     "metadata": {},
     "output_type": "execute_result"
    }
   ],
   "source": [
    "R = TP/(TP+FN)\n",
    "R"
   ]
  },
  {
   "cell_type": "markdown",
   "id": "82fccfec",
   "metadata": {},
   "source": [
    "Si nos interesa es minimizar la cantidad de falsos positivos, entonces usamos precision\n",
    "Si nos interesa es minimizar la cantidad de falsos negativos, entonces usamos recall\n",
    "\n",
    "Si queremos minimizar ambas usamos una combinación de ambas llamada el F-score\n",
    "\n",
    "$$ F_{\\beta} = (1+\\beta^{2})\\bigg(\\frac{PR}{\\beta^{2}P + R}\\bigg) $$\n",
    "\n",
    "si $\\beta = 0$ es más importante el precision\n",
    "si $\\beta = 0.5$ es más importante el recall\n",
    "si $\\beta = 1$ tienen una ponderación similar"
   ]
  },
  {
   "cell_type": "code",
   "execution_count": 15,
   "id": "9e3ad28a",
   "metadata": {},
   "outputs": [],
   "source": [
    "def GetF(P,R,b):\n",
    "    return (1+b**2)*(P*R/(b*P+R))"
   ]
  },
  {
   "cell_type": "code",
   "execution_count": 16,
   "id": "67eacedf",
   "metadata": {},
   "outputs": [
    {
     "data": {
      "text/plain": [
       "0.9879518072289156"
      ]
     },
     "execution_count": 16,
     "metadata": {},
     "output_type": "execute_result"
    }
   ],
   "source": [
    "F = GetF(P,R,1.0)\n",
    "F"
   ]
  },
  {
   "cell_type": "markdown",
   "id": "dbaa8cab",
   "metadata": {},
   "source": [
    "# Extensión a multiclase\n",
    "\n",
    "Calcularmos las tres métricas para cada una de las categorias, decidiendo cuál vamos a maximizar."
   ]
  },
  {
   "cell_type": "markdown",
   "id": "7e3f160f",
   "metadata": {},
   "source": [
    "# Curva ROC (receiver operating characteristics)\n",
    "## Curva precision-recall\n",
    "\n",
    "## La motivación radica en el uso de un umbral en el proceso de clasificación, eso cambia la tasa de aciertos y desaciertos\n",
    "\n",
    "## Tasa de verdaderos positivos (TPR)\n",
    "## De todos los positivos cuántos son realmente clasificados como positivos.\n",
    "\n",
    "$$  TPR = \\frac{TP}{TP+FN} $$ \n",
    "\n",
    "## Tasa de falsos positivos (FPR)\n",
    "## De todos los negativos cuántos son clasificados incorrectamente como positivos.\n",
    "\n",
    "$$  FPR = \\frac{FP}{FP+TN} $$ "
   ]
  },
  {
   "cell_type": "code",
   "execution_count": 17,
   "id": "dde5fa0c",
   "metadata": {},
   "outputs": [],
   "source": [
    "TPR = TP/(TP+FN)"
   ]
  },
  {
   "cell_type": "code",
   "execution_count": 18,
   "id": "ab77f00a",
   "metadata": {},
   "outputs": [],
   "source": [
    "FPR = FP/(FP+TN)"
   ]
  },
  {
   "cell_type": "code",
   "execution_count": 19,
   "id": "197849ba",
   "metadata": {},
   "outputs": [
    {
     "name": "stdout",
     "output_type": "stream",
     "text": [
      "0.9919354838709677 0.07692307692307693\n"
     ]
    }
   ],
   "source": [
    "print(TPR,FPR)"
   ]
  },
  {
   "cell_type": "code",
   "execution_count": 20,
   "id": "552d7913",
   "metadata": {},
   "outputs": [
    {
     "name": "stdout",
     "output_type": "stream",
     "text": [
      "INFO:tensorflow:Restoring parameters from Modelo1.ckpt\n"
     ]
    }
   ],
   "source": [
    "with tf.Session() as sess:\n",
    "    \n",
    "    saver.restore(sess,'Modelo1.ckpt')  \n",
    "    \n",
    "    X = sess.graph.get_tensor_by_name('input1:0')\n",
    "    lout = sess.graph.get_tensor_by_name('strided_slice:0')\n",
    "    \n",
    "    YPrediction = np.round(sess.run(lout,feed_dict={X:XTest}),3) \n",
    "    \n",
    "    #print(YPrediction)"
   ]
  },
  {
   "cell_type": "code",
   "execution_count": 21,
   "id": "8266423d",
   "metadata": {},
   "outputs": [],
   "source": [
    "umbrales = np.linspace(0.01,0.99,8)\n",
    "\n",
    "TPRV = np.zeros(umbrales.shape)\n",
    "FPRV = np.zeros(umbrales.shape)\n",
    "\n",
    "for i in range(len(umbrales)):\n",
    "    \n",
    "    Y = np.zeros_like(YPrediction)\n",
    "    Y[YPrediction >= umbrales[i]] = 1\n",
    "    \n",
    "    ConfusionMatrix = confusion_matrix(YTest,Y)\n",
    "        \n",
    "    TP = ConfusionMatrix[0,0]\n",
    "    FP = ConfusionMatrix[0,1]\n",
    "    FN = ConfusionMatrix[1,0]\n",
    "    TN = ConfusionMatrix[1,1] \n",
    "    \n",
    "   # print(TP,FN,FP,TN)\n",
    "    \n",
    "    TPR = TP/(TP+FN)\n",
    "    FPR = FP/(FP+TN)\n",
    "    \n",
    "    TPRV[i] = TPR\n",
    "    FPRV[i] = FPR"
   ]
  },
  {
   "cell_type": "code",
   "execution_count": 22,
   "id": "40312810",
   "metadata": {},
   "outputs": [
    {
     "name": "stdout",
     "output_type": "stream",
     "text": [
      "[0.66666667 0.28571429 0.19354839 0.0754717  0.04       0.\n",
      " 0.         0.        ]\n",
      "[1.         1.         1.         0.99595142 0.992      0.9765625\n",
      " 0.92592593 0.84745763]\n"
     ]
    }
   ],
   "source": [
    "print(FPRV)\n",
    "print(TPRV)"
   ]
  },
  {
   "cell_type": "markdown",
   "id": "ed1e1a83",
   "metadata": {},
   "source": [
    "# AUC de curva ROC"
   ]
  },
  {
   "cell_type": "code",
   "execution_count": 23,
   "id": "a9bd7ebf",
   "metadata": {},
   "outputs": [
    {
     "data": {
      "text/plain": [
       "Text(0, 0.5, 'TPR')"
      ]
     },
     "execution_count": 23,
     "metadata": {},
     "output_type": "execute_result"
    },
    {
     "data": {
      "image/png": "[encoded data removed]",
      "text/plain": [
       "<Figure size 432x288 with 1 Axes>"
      ]
     },
     "metadata": {
      "needs_background": "light"
     },
     "output_type": "display_data"
    }
   ],
   "source": [
    "plt.scatter(FPRV,TPRV,color='r')\n",
    "plt.fill_between(FPRV,TPRV,color='b',alpha=0.4)\n",
    "plt.xlabel('FPR')\n",
    "plt.ylabel('TPR')"
   ]
  },
  {
   "cell_type": "code",
   "execution_count": 24,
   "id": "0ed9c9ab",
   "metadata": {},
   "outputs": [
    {
     "data": {
      "text/plain": [
       "0.6655852031796858"
      ]
     },
     "execution_count": 24,
     "metadata": {},
     "output_type": "execute_result"
    }
   ],
   "source": [
    "AUC = auc(FPRV,TPRV)\n",
    "AUC"
   ]
  },
  {
   "cell_type": "code",
   "execution_count": null,
   "id": "ffb07c21",
   "metadata": {},
   "outputs": [],
   "source": []
  }
 ],
 "metadata": {
  "kernelspec": {
   "display_name": "Python 3 (ipykernel)",
   "language": "python",
   "name": "python3"
  },
  "language_info": {
   "codemirror_mode": {
    "name": "ipython",
    "version": 3
   },
   "file_extension": ".py",
   "mimetype": "text/x-python",
   "name": "python",
   "nbconvert_exporter": "python",
   "pygments_lexer": "ipython3",
   "version": "3.9.12"
  }
 },
 "nbformat": 4,
 "nbformat_minor": 5
}
